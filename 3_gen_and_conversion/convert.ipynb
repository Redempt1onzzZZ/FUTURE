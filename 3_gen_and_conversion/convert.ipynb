{
 "cells": [
  {
   "cell_type": "code",
   "execution_count": null,
   "id": "51a0e9fa-3745-4bee-9c76-c2c47f4b20a8",
   "metadata": {
    "tags": []
   },
   "outputs": [],
   "source": [
    "import os\n",
    "import torch\n",
    "from tqdm import tqdm\n",
    "from transformers import AutoTokenizer, AutoModelForCausalLM, BitsAndBytesConfig\n",
    "\n",
    "def convert_and_save_code(source_dir, target_base_dir, frameworks):\n",
    "    model_id = \"./2_finetune/combined_model\" #change this to the path of the fine-tuned model\n",
    "    quantization_config = BitsAndBytesConfig(\n",
    "        load_in_4bit=True,\n",
    "        bnb_4bit_compute_dtype=torch.float16\n",
    "    )\n",
    "    \n",
    "    tokenizer = AutoTokenizer.from_pretrained(model_id)\n",
    "    model = AutoModelForCausalLM.from_pretrained(\n",
    "        model_id,\n",
    "        quantization_config=quantization_config,\n",
    "        device_map=\"auto\",\n",
    "    )\n",
    "\n",
    "    total_files = sum(len(files) for _, _, files in os.walk(source_dir) if files)\n",
    "\n",
    "    with tqdm(total=total_files * len(frameworks), desc=\"Conversion Progress\", leave=False, ncols=75) as pbar:\n",
    "        for root, dirs, files in os.walk(source_dir):\n",
    "            for file in files:\n",
    "                if file.endswith(\".py\"):\n",
    "                    filepath = os.path.join(root, file)\n",
    "                    with open(filepath, 'r') as f:\n",
    "                        code_content = f.read()\n",
    "\n",
    "                    for framework in frameworks:\n",
    "                        prompt = f\"<s>[INST] Convert the following code to the {framework} framework\\n\\n{code_content}[/INST]\"\n",
    "                        inputs = tokenizer(prompt, return_tensors=\"pt\").to(\"cuda\")\n",
    "                        outputs = model.generate(inputs[\"input_ids\"], max_new_tokens=200, do_sample=True, top_p=0.9, temperature=0.1)\n",
    "                        converted_code = tokenizer.decode(outputs[0], skip_special_tokens=True)\n",
    "                        \n",
    "                        # Construct the target filepath\n",
    "                        new_root = root.replace(\"historical_bugs\", f\"converted_codes/{framework}\")\n",
    "                        if not os.path.exists(new_root):\n",
    "                            os.makedirs(new_root)\n",
    "                        target_filepath = os.path.join(new_root, file)\n",
    "\n",
    "                        # Save the converted code\n",
    "                        with open(target_filepath, \"w\") as f:\n",
    "                            f.write(converted_code)\n",
    "\n",
    "                        pbar.update(1)\n",
    "\n",
    "# Define the source directory and target base directory\n",
    "source_dir = \"./1_historical_bug_collection/Github_Issues_code\"\n",
    "target_base_dir = \"./converted_bug_codes\"\n",
    "\n",
    "# List of frameworks to convert to\n",
    "frameworks = [\"MLX\", \"OneFlow\", \"MindSpore\"]\n",
    "\n",
    "# Call the function to start the conversion process\n",
    "convert_and_save_code(source_dir, target_base_dir, frameworks)"
   ]
  }
 ],
 "metadata": {
  "kernelspec": {
   "display_name": "Python 3 (ipykernel)",
   "language": "python",
   "name": "python3"
  },
  "language_info": {
   "codemirror_mode": {
    "name": "ipython",
    "version": 3
   },
   "file_extension": ".py",
   "mimetype": "text/x-python",
   "name": "python",
   "nbconvert_exporter": "python",
   "pygments_lexer": "ipython3",
   "version": "3.8.10"
  }
 },
 "nbformat": 4,
 "nbformat_minor": 5
}
